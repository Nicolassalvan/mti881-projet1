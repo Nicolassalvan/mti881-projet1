{
 "cells": [
  {
   "cell_type": "markdown",
   "metadata": {},
   "source": [
    "Nicolas, Tess, Abdoulaye\n"
   ]
  },
  {
   "cell_type": "code",
   "execution_count": 2,
   "metadata": {},
   "outputs": [],
   "source": [
    "import pandas as pd \n",
    "import numpy as np\n",
    "import matplotlib.pyplot as plt\n",
    "import seaborn as sns"
   ]
  },
  {
   "cell_type": "markdown",
   "metadata": {},
   "source": [
    "# Données"
   ]
  },
  {
   "cell_type": "markdown",
   "metadata": {},
   "source": [
    "## Chargement des données "
   ]
  },
  {
   "cell_type": "code",
   "execution_count": 3,
   "metadata": {},
   "outputs": [
    {
     "name": "stdout",
     "output_type": "stream",
     "text": [
      "              Document Annotateur                 Texte  Début    Fin  \\\n",
      "0  common_27449845.txt    AU90360    Zirconia Abutments   21.0   39.0   \n",
      "1  common_27449845.txt    AU90360    zirconia abutments  124.0  142.0   \n",
      "2  common_27449845.txt    AV45040              Zirconia   21.0   29.0   \n",
      "3  common_27449845.txt    AV45040          single-tooth  165.0  177.0   \n",
      "4  common_27706165.txt    AU90360  Mycobacterium leprae  109.0  129.0   \n",
      "\n",
      "          CUI                     Type Confiance Relation Source Cible  \n",
      "0    C0545406                  anatomy      high      NaN    NaN   NaN  \n",
      "1    C0545406                  anatomy      high      NaN    NaN   NaN  \n",
      "2  A1.4.1.1.1  pharmacologic_substance      high      NaN    NaN   NaN  \n",
      "3        A1.2                  anatomy      high      NaN    NaN   NaN  \n",
      "4    C0026922           bacteria_virus      high      NaN    NaN   NaN  \n",
      "              Document Annotateur      Texte  Début    Fin         CUI  \\\n",
      "0  common_27449845.txt    AU90360   Zirconia   21.0   39.0    C0545406   \n",
      "1  common_27449845.txt    AU90360  Abutments   21.0   39.0    C0545406   \n",
      "2  common_27449845.txt    AU90360   zirconia  124.0  142.0    C0545406   \n",
      "3  common_27449845.txt    AU90360  abutments  124.0  142.0    C0545406   \n",
      "4  common_27449845.txt    AV45040   Zirconia   21.0   29.0  A1.4.1.1.1   \n",
      "\n",
      "                      Type Confiance Relation Source Cible  \n",
      "0                  anatomy      high      NaN    NaN   NaN  \n",
      "1                  anatomy      high      NaN    NaN   NaN  \n",
      "2                  anatomy      high      NaN    NaN   NaN  \n",
      "3                  anatomy      high      NaN    NaN   NaN  \n",
      "4  pharmacologic_substance      high      NaN    NaN   NaN  \n"
     ]
    }
   ],
   "source": [
    "df = pd.read_csv(\"data.csv\", decimal=\".\")\n",
    "print(df.head())\n",
    "\n",
    "df_exploded = pd.read_csv(\"data_exploded.csv\", decimal=\".\")\n",
    "print(df_exploded.head())\n"
   ]
  },
  {
   "cell_type": "markdown",
   "metadata": {},
   "source": []
  },
  {
   "cell_type": "markdown",
   "metadata": {},
   "source": [
    "## Group By Annotator "
   ]
  },
  {
   "cell_type": "code",
   "execution_count": 9,
   "metadata": {},
   "outputs": [
    {
     "name": "stdout",
     "output_type": "stream",
     "text": [
      "['AU90360' 'AV45040' 'AV00440' 'CURATION_USER']\n"
     ]
    }
   ],
   "source": [
    "annotators = df['Annotateur'].unique()\n",
    "print(annotators)"
   ]
  },
  {
   "cell_type": "code",
   "execution_count": 10,
   "metadata": {},
   "outputs": [],
   "source": [
    "df_AU90360 = df[df['Annotateur'] == 'AU90360']\n",
    "df_AU90360 = df_AU90360.drop(columns=['Annotateur'])\n",
    "\n",
    "df_AV45040 = df[df['Annotateur'] == 'AV45040']\n",
    "df_AV45040 = df_AV45040.drop(columns=['Annotateur'])\n",
    "\n",
    "df_AV00440 = df[df['Annotateur'] == 'AV00440']\n",
    "df_AV00440 = df_AV00440.drop(columns=['Annotateur'])\n",
    "\n",
    "df_CURATION = df[df['Annotateur'] == 'CURATION_USER']\n",
    "df_CURATION = df_CURATION.drop(columns=['Annotateur'])"
   ]
  },
  {
   "cell_type": "markdown",
   "metadata": {},
   "source": [
    "## Group By Layer"
   ]
  },
  {
   "cell_type": "code",
   "execution_count": null,
   "metadata": {},
   "outputs": [],
   "source": [
    "df_medical = df_exploded[]      "
   ]
  }
 ],
 "metadata": {
  "kernelspec": {
   "display_name": "base",
   "language": "python",
   "name": "python3"
  },
  "language_info": {
   "codemirror_mode": {
    "name": "ipython",
    "version": 3
   },
   "file_extension": ".py",
   "mimetype": "text/x-python",
   "name": "python",
   "nbconvert_exporter": "python",
   "pygments_lexer": "ipython3",
   "version": "3.9.13"
  }
 },
 "nbformat": 4,
 "nbformat_minor": 2
}
